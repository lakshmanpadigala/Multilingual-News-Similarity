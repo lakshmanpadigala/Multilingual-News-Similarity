{
  "nbformat": 4,
  "nbformat_minor": 0,
  "metadata": {
    "colab": {
      "provenance": []
    },
    "kernelspec": {
      "name": "python3",
      "display_name": "Python 3"
    },
    "language_info": {
      "name": "python"
    }
  },
  "cells": [
    {
      "cell_type": "code",
      "source": [
        "import json\n",
        "data = json.load(open('/content/drive/MyDrive/train_data.json', 'r'))"
      ],
      "metadata": {
        "id": "i38GwGB5jrl0"
      },
      "execution_count": null,
      "outputs": []
    },
    {
      "cell_type": "code",
      "source": [
        "def getRandom(data): \n",
        "    arr1 = vals[\"text_1\"].split(\".\")\n",
        "    arr2 = vals[\"text_2\"].split(\".\")\n",
        "    x = len(arr1)\n",
        "    y = len(arr2)\n",
        "    ind_arr1 = []\n",
        "    ind_arr2 = []\n",
        "    for i in range(x):\n",
        "        ind_arr1.append(i)\n",
        "    for i in range(y):\n",
        "        ind_arr2.append(i)\n",
        "        import random\n",
        "    augmented1 = []\n",
        "    augmented2 = []\n",
        "    while(len(ind_arr1) >0 and len(ind_arr2) > 0):\n",
        "        rand_ind1 = random.choice(ind_arr1)\n",
        "        rand_ind2 = random.choice(ind_arr2)\n",
        "        augmented1.append(arr1[rand_ind1])\n",
        "        augmented2.append(arr2[rand_ind2])\n",
        "        ind_arr1.remove(rand_ind1)\n",
        "        ind_arr2.remove(rand_ind2)\n",
        "    while(len(ind_arr1) > 0):\n",
        "        rand_ind1 = random.choice(ind_arr1)\n",
        "        augmented1.append(arr1[rand_ind1])\n",
        "        ind_arr1.remove(rand_ind1)\n",
        "    while(len(ind_arr2) > 0):\n",
        "        rand_ind2 = random.choice(ind_arr2)\n",
        "        augmented2.append(arr2[rand_ind2])\n",
        "        ind_arr2.remove(rand_ind2)\n",
        "    return augmented1, augmented2"
      ],
      "metadata": {
        "id": "eFgbNQBfmroZ"
      },
      "execution_count": null,
      "outputs": []
    },
    {
      "cell_type": "code",
      "source": [
        "augmented_data = []\n",
        "for vals in data:\n",
        "    new_data = {}\n",
        "    augmented_data.append(vals)\n",
        "    for i in range(4):\n",
        "        new_data['pair_id'] = vals[\"pair_id\"]\n",
        "        new_data['title_1'] = vals[\"title_1\"]\n",
        "        new_data['title_2'] = vals[\"title_2\"]\n",
        "\n",
        "        ag1, ag2 = getRandom(vals)\n",
        "        new_data[\"text_1\"] = ag1\n",
        "        new_data[\"text_2\"] = ag2\n",
        "\n",
        "        new_data['tags_1'] = vals[\"tags_1\"]\n",
        "        new_data['tags_2'] = vals[\"tags_2\"]\n",
        "        new_data['meta_lang_1'] = vals[\"meta_lang_1\"]\n",
        "        new_data['meta_lang_2'] = vals[\"meta_lang_2\"]\n",
        "        new_data[\"score\"] = vals[\"score\"]\n",
        "\n",
        "        augmented_data.append(new_data)"
      ],
      "metadata": {
        "id": "dMje_6vAIyvy"
      },
      "execution_count": null,
      "outputs": []
    },
    {
      "cell_type": "code",
      "source": [
        "len(augmented_data)"
      ],
      "metadata": {
        "id": "5LNQH4NEmxfw",
        "colab": {
          "base_uri": "https://localhost:8080/"
        },
        "outputId": "298c1b62-af51-4af7-afd2-9bc13bc67ce2"
      },
      "execution_count": null,
      "outputs": [
        {
          "output_type": "execute_result",
          "data": {
            "text/plain": [
              "14285"
            ]
          },
          "metadata": {},
          "execution_count": 46
        }
      ]
    },
    {
      "cell_type": "code",
      "source": [
        "with open('/content/drive/MyDrive/q4_data/augmented_data.json', 'w') as f:\n",
        "  json.dump(augmented_data, f)"
      ],
      "metadata": {
        "id": "zX9M_EHJm2Pk"
      },
      "execution_count": null,
      "outputs": []
    },
    {
      "cell_type": "code",
      "source": [
        "data[0]"
      ],
      "metadata": {
        "id": "egIGQ4C-k9O_",
        "colab": {
          "base_uri": "https://localhost:8080/"
        },
        "outputId": "229281fc-9c8e-4e2c-ecff-a7403e86600d"
      },
      "execution_count": null,
      "outputs": [
        {
          "output_type": "execute_result",
          "data": {
            "text/plain": [
              "{'pair_id': '1484084337_1484110209',\n",
              " 'title_1': 'Virginia man arrested in fatal DUI crash in West Virginia',\n",
              " 'title_2': 'Haiti’s leader marks independence day amid security concerns',\n",
              " 'text_1': 'MARTINSBURG, W.Va. — A suspected drunken driver was arrested in a New Year’s Day highway crash that killed another motorist in West Virginia, police said.\\n\\nThe accident occurred early Wednesday along southbound Interstate 81 in Berkeley County, The Journal reported.\\n\\nCody Wade Braithwaite, 32, of Winchester, Virginia, was charged with DUI with death, fleeing DUI, and being a prohibited person in possession of a firearm and a fugitive from justice, Berkeley County Sheriff Curtis Keller said.\\n\\nKeller said a deputy investigating calls about a reckless driver attempted to make a traffic stop, but the suspect’s vehicle sped up and hit a car, which then struck a guardrail. The driver of the car was pronounced dead at the scene. The driver’s name was not immediately released.\\n\\nThe suspect’s vehicle also hit a deputy’s cruiser before being stopped, Keller said.\\n\\nBraithwaite was being held without bond in the Eastern Regional Jail. It wasn’t immediately known whether Braithwaite has an attorney.\\n\\n___\\n\\nInformation from: The Journal, http://journal-news.net/\\n\\nCopyright 2020 The Associated Press. All rights reserved. This material may not be published, broadcast, rewritten or redistributed.',\n",
              " 'text_2': 'PORT-AU-PRINCE, Haiti — Haitian President Jovenel Moïse broke with tradition on Wednesday and celebrated the country’s independence day in the capital for security reasons following months of political turmoil.\\n\\nMoïse, whose government has been accused of corruption, denounced graft during his speech at the National Palace in Port-au-Prince and urged Haiti’s elite to work with the government and help create employment.\\n\\n“We’re still extremely poor,” he said. “Those who continue to get rich find it normal that they do not pay taxes, find it normal that there can be no competition, find it normal that they set prices for consumers, especially when this consumer is the state itself.”\\n\\nMoïse also apologized for the country’s ongoing power outages and renewed his 2016 campaign pledge to provide electricity 24 hours a day, saying it was harder to accomplish than he imagined.\\n\\nThe speech that marked the 216th anniversary of the world’s first black republic was originally slated to take place in the northern coastal town of Gonaives, where Jean-Jacques Dessalines declared Haiti’s independence. But the town, like many others, was hit by violent protests that began in September amid anger over corruption, fuel shortages and dwindling food supplies as opposition leaders and supporters demanded the resignation of Moïse. More than 40 people have been killed and dozens injured.\\n\\nLarge-scale protests in Port-au-Prince have since dissipated, although smaller ones are still occurring elsewhere in the country. On Wednesday, opposition leaders and supporters gathered in Gonaives to attend the funeral of an anti-government protester and then carried his coffin through the streets as more protesters joined them.\\n\\nCopyright 2020 The Associated Press. All rights reserved. This material may not be published, broadcast, rewritten or redistributed.',\n",
              " 'tags_1': [],\n",
              " 'tags_2': [],\n",
              " 'meta_lang_1': 'en',\n",
              " 'meta_lang_2': 'en',\n",
              " 'score': 4.0}"
            ]
          },
          "metadata": {},
          "execution_count": 9
        }
      ]
    },
    {
      "cell_type": "code",
      "source": [
        "meta = dict()\n",
        "for val in data:\n",
        "    if(val[\"meta_lang_1\"]+\"_\"+val[\"meta_lang_2\"] in meta.keys()):\n",
        "        meta[val[\"meta_lang_1\"]+\"_\" + val[\"meta_lang_2\"]] += 1\n",
        "    else:\n",
        "        meta[val[\"meta_lang_1\"]+\"_\" + val[\"meta_lang_2\"]]=1"
      ],
      "metadata": {
        "id": "VygfD55dwy54"
      },
      "execution_count": null,
      "outputs": []
    },
    {
      "cell_type": "code",
      "source": [
        "meta"
      ],
      "metadata": {
        "colab": {
          "base_uri": "https://localhost:8080/"
        },
        "id": "YzIrMcM-0c-G",
        "outputId": "3a781e74-bf05-48ef-b317-93f294e142f1"
      },
      "execution_count": null,
      "outputs": [
        {
          "output_type": "execute_result",
          "data": {
            "text/plain": [
              "{'en_en': 1287,\n",
              " '_en': 196,\n",
              " 'en_': 115,\n",
              " '_': 130,\n",
              " 'es_en': 5,\n",
              " 'ar_en': 3,\n",
              " 'en_es': 7,\n",
              " 'pt_en': 1,\n",
              " '_hi': 1,\n",
              " '_es': 24,\n",
              " 'de_de': 333,\n",
              " '_de': 20,\n",
              " 'de_': 31,\n",
              " 'en_de': 3,\n",
              " 'de_en': 4,\n",
              " 'es_es': 361,\n",
              " 'es_': 31,\n",
              " 'pl_': 14,\n",
              " 'pl_pl': 151,\n",
              " '_pl': 14,\n",
              " 'en_pl': 1,\n",
              " 'pl_en': 1,\n",
              " 'tr_tr': 51,\n",
              " 'tr_': 2,\n",
              " 'fr_fr': 24,\n",
              " 'fr_': 2,\n",
              " 'fr_en': 1,\n",
              " 'en_fr': 1,\n",
              " 'en_ar': 2,\n",
              " 'ar_ar': 19,\n",
              " '_ar': 12,\n",
              " '_fr': 1,\n",
              " '_tr': 1,\n",
              " 'ar_': 8}"
            ]
          },
          "metadata": {},
          "execution_count": 11
        }
      ]
    },
    {
      "cell_type": "code",
      "source": [
        "import json\n",
        "data = json.load(open('/content/drive/MyDrive/q4_data/test_data.json', 'r'))"
      ],
      "metadata": {
        "id": "xd-Y7V-M0d7P"
      },
      "execution_count": null,
      "outputs": []
    },
    {
      "cell_type": "code",
      "source": [
        "meta = dict()\n",
        "for val in data:\n",
        "    if(val[\"meta_lang_1\"]+\"_\"+val[\"meta_lang_2\"] in meta.keys()):\n",
        "        meta[val[\"meta_lang_1\"]+\"_\" + val[\"meta_lang_2\"]] += 1\n",
        "    else:\n",
        "        meta[val[\"meta_lang_1\"]+\"_\" + val[\"meta_lang_2\"]]=1"
      ],
      "metadata": {
        "id": "UyZy9QRA2Exf"
      },
      "execution_count": null,
      "outputs": []
    },
    {
      "cell_type": "code",
      "source": [
        "meta"
      ],
      "metadata": {
        "colab": {
          "base_uri": "https://localhost:8080/"
        },
        "id": "Ks9xkg1w2Fve",
        "outputId": "c4fe5bfc-a0bb-4406-efcf-b2c01fd45e7d"
      },
      "execution_count": null,
      "outputs": [
        {
          "output_type": "execute_result",
          "data": {
            "text/plain": [
              "{'ar_ar': 298,\n",
              " 'de_de': 607,\n",
              " 'de_en': 185,\n",
              " 'de_fr': 116,\n",
              " 'de_pl': 35,\n",
              " 'en_en': 236,\n",
              " 'es_en': 491,\n",
              " 'es_es': 240,\n",
              " 'es_it': 319,\n",
              " 'fr_fr': 111,\n",
              " 'fr_pl': 11,\n",
              " 'it_it': 409,\n",
              " 'pl_en': 64,\n",
              " 'pl_pl': 163,\n",
              " 'ru_ru': 228,\n",
              " 'tr_tr': 229,\n",
              " 'zh_en': 123,\n",
              " 'zh_zh': 451}"
            ]
          },
          "metadata": {},
          "execution_count": 14
        }
      ]
    },
    {
      "cell_type": "code",
      "source": [],
      "metadata": {
        "id": "6VdzZ7p_IpE5"
      },
      "execution_count": null,
      "outputs": []
    }
  ]
}